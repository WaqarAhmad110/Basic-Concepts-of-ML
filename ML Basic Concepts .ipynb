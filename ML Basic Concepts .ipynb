{
 "cells": [
  {
   "cell_type": "markdown",
   "id": "f792cfa5-01e9-454c-949c-8f0b68a95ef7",
   "metadata": {},
   "source": [
    "## What is machine learning?\n",
    "It's learns the data builds the prediction model and when new data points come in it can easily predict for it. More the data better the model higher will be the accuracy there. "
   ]
  },
  {
   "cell_type": "markdown",
   "id": "b7be62fa-ee02-4ba1-a3b6-3406b6014a5a",
   "metadata": {},
   "source": [
    "### Ways to learn Machine Learning\n",
    "1- Supervised Learning \n",
    "2- Unsupervised learning\n",
    "3- Reinforcement Learning "
   ]
  },
  {
   "cell_type": "markdown",
   "id": "b9111a90-1a6f-4544-b763-b2f7100cda21",
   "metadata": {},
   "source": [
    "# Top Applications of Machine Learning \n",
    "1- Virtual Personal Assistant like Google Assitant, alexa , siri and cortana \n",
    "2- Traffic Predictions like Google maps, Bing Maps, Here we go and MAPS.ME\n",
    "3- Social Media Personalization (If I search for a laptop on Amazon, I’ll start seeing ads related to laptops on my social media accounts.)\n",
    "4- Email Spam Filtering\n",
    "5- Online fraud Detection \n",
    "6- Stock Market Trading\n",
    "7- Assistive Medical Technology\n",
    "8- Atomatic translation"
   ]
  },
  {
   "cell_type": "markdown",
   "id": "3233d535-0b20-40b8-bd36-b8ac51c52b1d",
   "metadata": {},
   "source": [
    "## Supervised Learning\n",
    "is a type of machine learning algorithm that learns from labeled data. Labeled data is data that has been tagged with a correct answer or classification.\n",
    "Surpervised Learning grouped into\n",
    "1- Classification:- When output variable is catgorical such as true or false and yes or no\n",
    "2-Regression:-(Predicitve Model) Relationship between two or more variables. when a variable changes it effact on another value  \n",
    "\n",
    "For Example:- Salary will increase? Only two options we have YES or NO (it's Classfication)\n",
    "              Salary will increase dependent on the experience (It's regression bcz salary depends on experience)\n"
   ]
  },
  {
   "cell_type": "markdown",
   "id": "c12b8104-d260-499e-8dbc-3352a8980e04",
   "metadata": {},
   "source": [
    "#                                        Areas Where Supervised Learning is using \n",
    "1- Risk Assesment \n",
    "2- Image Classification\n",
    "3- Fraud Detection \n",
    "4- Visual Recogination "
   ]
  },
  {
   "cell_type": "markdown",
   "id": "bdffc8fd-80e6-4416-9afd-7e963384e6bf",
   "metadata": {},
   "source": [
    "#                                       Classification Algorithms (8 Most Important)\n",
    "\n",
    "1- Logistic Regression: For binary classification problems.\n",
    "2- K-Nearest Neighbors (KNN): Simple and effective for small datasets.\n",
    "3- Support Vector Machines (SVM): Works well for high-dimensional spaces.\n",
    "4- Decision Trees: Interpretable and easy to use.\n",
    "5- Random Forest: An ensemble method for better accuracy and reduced overfitting.\n",
    "6- Gradient Boosting (e.g., XGBoost, LightGBM): High-performing ensemble methods for classification.\n",
    "7- Naive Bayes: Fast and efficient for text classification problems.\n",
    "8- Neural Networks (ANNs): Suitable for complex, non-linear classification tasks."
   ]
  },
  {
   "cell_type": "markdown",
   "id": "7bd7fbff-a60a-4a57-a243-aaffc5ac61dc",
   "metadata": {},
   "source": [
    "#                                        Regression Algorithms (8 Most Important)\n",
    "\n",
    "1- Linear Regression: The foundation for regression tasks.\n",
    "2- Ridge Regression: Regularized linear regression to avoid overfitting.\n",
    "3- Lasso Regression: Regularized regression with feature selection.\n",
    "4- Support Vector Regression (SVR): Effective for high-dimensional data.\n",
    "5- Decision Tree Regression: Non-linear regression with interpretability.\n",
    "6- Random Forest Regression: Robust ensemble method for regression.\n",
    "7- Gradient Boosting Regression (e.g., XGBoost, LightGBM): Excellent for large datasets with high accuracy.\n",
    "8- Neural Networks: Suitable for complex regression problems.\n"
   ]
  },
  {
   "cell_type": "markdown",
   "id": "378bf791-a0a8-4303-8d52-0560ca2e5735",
   "metadata": {},
   "source": [
    "# Unsupervise Learning \n",
    "is a type of machine learning there is no supervision and not training will be given to machine. Allowing to act data which is not labled. Machine identify the patterns and gives response\n",
    "The unspervise learning grouped into \n",
    "\n",
    "1- Clustring:- is a unsupervised learning technique. Data points within the same cluster are more similar to each other than to those in other clusters.                It is primarily used for exploratory data analysis to discover hidden patterns or structures in unlabeled datasets.\n",
    "2- Association:- is an unsupervised learning technique used to discover interesting relationships or patterns between variables in large datasets. It                    identifies rules that describe how items or features are associated with one another."
   ]
  },
  {
   "cell_type": "markdown",
   "id": "4df26199-f4ee-440d-b20c-df910866c664",
   "metadata": {},
   "source": [
    "#                                            Real Life Applications of Unsupervised Learning \n",
    "1- Market Basket Analysis\n",
    "2- Semantic Clustering \n",
    "3- Delivery Store Optimization \n",
    "4- Indentifying Accident Prone Areas "
   ]
  },
  {
   "cell_type": "markdown",
   "id": "16046690-6a62-4adc-a868-bdc05318a174",
   "metadata": {},
   "source": [
    "#                                              Top Most ALogrithums use in Clustering \n",
    "1- K-Means Clustering\n",
    "2- Hierarchical Clustering\n",
    "3- DBSCAN (Density-Based Spatial Clustering of Applications with Noise)\n",
    "4- Gaussian Mixture Models (GMM)\n",
    "5- Mean-Shift Clustering"
   ]
  },
  {
   "cell_type": "markdown",
   "id": "7420db27-50fc-49fc-811a-d1d8aa0923d2",
   "metadata": {},
   "source": [
    "#                                               Top Most ALogrithums use in Clustering \n",
    "1- Apriori Algorithm\n",
    "2- Eclat Algorithm\n",
    "3- FP-Growth (Frequent Pattern Growth)\n",
    "4- AIS Algorithm"
   ]
  }
 ],
 "metadata": {
  "kernelspec": {
   "display_name": "Python 3 (ipykernel)",
   "language": "python",
   "name": "python3"
  },
  "language_info": {
   "codemirror_mode": {
    "name": "ipython",
    "version": 3
   },
   "file_extension": ".py",
   "mimetype": "text/x-python",
   "name": "python",
   "nbconvert_exporter": "python",
   "pygments_lexer": "ipython3",
   "version": "3.12.6"
  }
 },
 "nbformat": 4,
 "nbformat_minor": 5
}
